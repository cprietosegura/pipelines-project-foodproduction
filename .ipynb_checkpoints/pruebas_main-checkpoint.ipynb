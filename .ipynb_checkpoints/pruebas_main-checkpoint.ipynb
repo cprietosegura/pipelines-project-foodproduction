{
 "cells": [
  {
   "cell_type": "code",
   "execution_count": 5,
   "metadata": {},
   "outputs": [],
   "source": [
    "from src.god import *\n",
    "import argparse"
   ]
  },
  {
   "cell_type": "code",
   "execution_count": 6,
   "metadata": {},
   "outputs": [
    {
     "name": "stderr",
     "output_type": "stream",
     "text": [
      "usage: ipykernel_launcher.py [-h] [--country country]\n",
      "ipykernel_launcher.py: error: unrecognized arguments: -f /run/user/1000/jupyter/kernel-ab6187a0-d898-450f-b27f-7e8eb98ce0bc.json\n"
     ]
    },
    {
     "ename": "SystemExit",
     "evalue": "2",
     "output_type": "error",
     "traceback": [
      "An exception has occurred, use %tb to see the full traceback.\n",
      "\u001b[0;31mSystemExit\u001b[0m\u001b[0;31m:\u001b[0m 2\n"
     ]
    },
    {
     "name": "stderr",
     "output_type": "stream",
     "text": [
      "/home/eduardo/.local/lib/python3.5/site-packages/IPython/core/interactiveshell.py:3304: UserWarning: To exit: use 'exit', 'quit', or Ctrl-D.\n",
      "  warn(\"To exit: use 'exit', 'quit', or Ctrl-D.\", stacklevel=1)\n"
     ]
    }
   ],
   "source": [
    "def recibeConfig():\n",
    "    my_parser = argparse.ArgumentParser(description='Obtain information about food production and gas emissions in the EU.')\n",
    "    my_parser.add_argument('--country',\n",
    "                           type=str,\n",
    "                           help='Enter a country of the European Union',\n",
    "                           default=\"Spain\")\n",
    "    args = my_parser.parse_args()\n",
    "    print(args)\n",
    "    return args\n",
    "\n",
    "def CheckCountryData(country):\n",
    "    dffood=src.god.GetFile(\"./input/FAO.csv\")\n",
    "    dffood=src.god.CleaningFoodDf(dffood)\n",
    "    dfpoll=src.god.Scrapping('https://stats.oecd.org/Index.aspx?DataSetCode=AIR_GHG')\n",
    "    dfpoll=src.god.CleaningPollDf(dfpoll)\n",
    "    graffic=src.god.Analysis(dffood,country) #el pais es lo que tiene que meter el usuario\n",
    "    print(graffic)\n",
    "\n",
    "\n",
    "def main():\n",
    "    \n",
    "    config = recibeConfig()\n",
    "    CheckCountryData(config.country)\n",
    "\n",
    "if __name__ == \"__main__\":\n",
    "    main()\n",
    "    \n",
    "    "
   ]
  },
  {
   "cell_type": "code",
   "execution_count": null,
   "metadata": {},
   "outputs": [],
   "source": []
  },
  {
   "cell_type": "code",
   "execution_count": null,
   "metadata": {},
   "outputs": [],
   "source": []
  }
 ],
 "metadata": {
  "kernelspec": {
   "display_name": "Python 3",
   "language": "python",
   "name": "python3"
  },
  "language_info": {
   "codemirror_mode": {
    "name": "ipython",
    "version": 3
   },
   "file_extension": ".py",
   "mimetype": "text/x-python",
   "name": "python",
   "nbconvert_exporter": "python",
   "pygments_lexer": "ipython3",
   "version": "3.5.2"
  }
 },
 "nbformat": 4,
 "nbformat_minor": 2
}
