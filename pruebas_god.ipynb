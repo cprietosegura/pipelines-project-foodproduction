{
 "cells": [
  {
   "cell_type": "code",
   "execution_count": 1,
   "metadata": {},
   "outputs": [],
   "source": [
    "import pandas as pd\n",
    "import numpy as np\n",
    "import matplotlib.pyplot as plt\n",
    "import src.cleanning_fooddf\n",
    "import src.cleanning_pollutiondf\n",
    "import src.analysis\n",
    "import src.scrapping\n",
    "from bs4 import BeautifulSoup\n",
    "import requests"
   ]
  },
  {
   "cell_type": "code",
   "execution_count": 2,
   "metadata": {},
   "outputs": [],
   "source": [
    "def GetFile(path):\n",
    "    df = pd.read_csv(path)\n",
    "    return df"
   ]
  },
  {
   "cell_type": "code",
   "execution_count": 3,
   "metadata": {},
   "outputs": [],
   "source": [
    "dffood=GetFile(\"./input/FAO.csv\")"
   ]
  },
  {
   "cell_type": "code",
   "execution_count": 4,
   "metadata": {},
   "outputs": [],
   "source": [
    "def CleaningFoodDf(df):\n",
    "    df=src.cleanning_fooddf.DropColumns(df)\n",
    "    df=src.cleanning_fooddf.CleanColNames(df)\n",
    "    df=src.cleanning_fooddf.CountryNames(df)\n",
    "    df=src.cleanning_fooddf.FilterUeCountries(df)\n",
    "    df=src.cleanning_fooddf.GroupSumCountries(df)\n",
    "    df=src.cleanning_fooddf.RenameColArea(df)\n",
    "    df=src.cleanning_fooddf.RecolocateDf(df)\n",
    "    \n",
    "    return df\n",
    "\n",
    "#falta exportar el csv limpio en el return? (r'./output/food-production.csv')"
   ]
  },
  {
   "cell_type": "code",
   "execution_count": 5,
   "metadata": {},
   "outputs": [
    {
     "name": "stderr",
     "output_type": "stream",
     "text": [
      "/home/eduardo/Documentos/proyectos/pipelines-project-foodproduction/src/cleanning_fooddf.py:20: SettingWithCopyWarning: \n",
      "A value is trying to be set on a copy of a slice from a DataFrame\n",
      "\n",
      "See the caveats in the documentation: http://pandas.pydata.org/pandas-docs/stable/indexing.html#indexing-view-versus-copy\n",
      "  df['Area'][41]='Republic of Cyprus'\n",
      "/home/eduardo/.local/lib/python3.5/site-packages/ipykernel_launcher.py:4: SettingWithCopyWarning: \n",
      "A value is trying to be set on a copy of a slice from a DataFrame\n",
      "\n",
      "See the caveats in the documentation: http://pandas.pydata.org/pandas-docs/stable/indexing.html#indexing-view-versus-copy\n",
      "  after removing the cwd from sys.path.\n",
      "/home/eduardo/Documentos/proyectos/pipelines-project-foodproduction/src/cleanning_fooddf.py:21: SettingWithCopyWarning: \n",
      "A value is trying to be set on a copy of a slice from a DataFrame\n",
      "\n",
      "See the caveats in the documentation: http://pandas.pydata.org/pandas-docs/stable/indexing.html#indexing-view-versus-copy\n",
      "  df['Area'][42]='Czech Republic'\n"
     ]
    }
   ],
   "source": [
    "dffood=CleaningFoodDf(dffood)"
   ]
  },
  {
   "cell_type": "code",
   "execution_count": 6,
   "metadata": {},
   "outputs": [
    {
     "data": {
      "text/html": [
       "<div>\n",
       "<style scoped>\n",
       "    .dataframe tbody tr th:only-of-type {\n",
       "        vertical-align: middle;\n",
       "    }\n",
       "\n",
       "    .dataframe tbody tr th {\n",
       "        vertical-align: top;\n",
       "    }\n",
       "\n",
       "    .dataframe thead th {\n",
       "        text-align: right;\n",
       "    }\n",
       "</style>\n",
       "<table border=\"1\" class=\"dataframe\">\n",
       "  <thead>\n",
       "    <tr style=\"text-align: right;\">\n",
       "      <th>Country</th>\n",
       "      <th>Year</th>\n",
       "      <th>Austria</th>\n",
       "      <th>Belgium</th>\n",
       "      <th>Bulgaria</th>\n",
       "      <th>Croatia</th>\n",
       "      <th>Czech Republic</th>\n",
       "      <th>Denmark</th>\n",
       "      <th>Estonia</th>\n",
       "      <th>Finland</th>\n",
       "      <th>France</th>\n",
       "      <th>...</th>\n",
       "      <th>Netherlands</th>\n",
       "      <th>Poland</th>\n",
       "      <th>Portugal</th>\n",
       "      <th>Republic of Cyprus</th>\n",
       "      <th>Romania</th>\n",
       "      <th>Slovakia</th>\n",
       "      <th>Slovenia</th>\n",
       "      <th>Spain</th>\n",
       "      <th>Sweden</th>\n",
       "      <th>United Kingdom</th>\n",
       "    </tr>\n",
       "  </thead>\n",
       "  <tbody>\n",
       "    <tr>\n",
       "      <th>0</th>\n",
       "      <td>1990</td>\n",
       "      <td>24721.0</td>\n",
       "      <td>0.0</td>\n",
       "      <td>26073.0</td>\n",
       "      <td>0.0</td>\n",
       "      <td>0.0</td>\n",
       "      <td>23218.0</td>\n",
       "      <td>0.0</td>\n",
       "      <td>14901.0</td>\n",
       "      <td>171107.0</td>\n",
       "      <td>...</td>\n",
       "      <td>70331.0</td>\n",
       "      <td>149870.0</td>\n",
       "      <td>28181.0</td>\n",
       "      <td>13.0</td>\n",
       "      <td>62989.0</td>\n",
       "      <td>0.0</td>\n",
       "      <td>0.0</td>\n",
       "      <td>120074.0</td>\n",
       "      <td>24271.0</td>\n",
       "      <td>133515.0</td>\n",
       "    </tr>\n",
       "    <tr>\n",
       "      <th>1</th>\n",
       "      <td>1991</td>\n",
       "      <td>24461.0</td>\n",
       "      <td>0.0</td>\n",
       "      <td>27231.0</td>\n",
       "      <td>0.0</td>\n",
       "      <td>0.0</td>\n",
       "      <td>23248.0</td>\n",
       "      <td>0.0</td>\n",
       "      <td>13797.0</td>\n",
       "      <td>176966.0</td>\n",
       "      <td>...</td>\n",
       "      <td>62610.0</td>\n",
       "      <td>141291.0</td>\n",
       "      <td>27411.0</td>\n",
       "      <td>9.0</td>\n",
       "      <td>60804.0</td>\n",
       "      <td>0.0</td>\n",
       "      <td>0.0</td>\n",
       "      <td>120149.0</td>\n",
       "      <td>23511.0</td>\n",
       "      <td>129751.0</td>\n",
       "    </tr>\n",
       "    <tr>\n",
       "      <th>2</th>\n",
       "      <td>1992</td>\n",
       "      <td>24427.0</td>\n",
       "      <td>0.0</td>\n",
       "      <td>21809.0</td>\n",
       "      <td>9525.0</td>\n",
       "      <td>0.0</td>\n",
       "      <td>23610.0</td>\n",
       "      <td>4771.0</td>\n",
       "      <td>13703.0</td>\n",
       "      <td>170332.0</td>\n",
       "      <td>...</td>\n",
       "      <td>66338.0</td>\n",
       "      <td>123873.0</td>\n",
       "      <td>26344.0</td>\n",
       "      <td>8.0</td>\n",
       "      <td>61463.0</td>\n",
       "      <td>0.0</td>\n",
       "      <td>4087.0</td>\n",
       "      <td>117991.0</td>\n",
       "      <td>23707.0</td>\n",
       "      <td>132955.0</td>\n",
       "    </tr>\n",
       "    <tr>\n",
       "      <th>3</th>\n",
       "      <td>1993</td>\n",
       "      <td>24317.0</td>\n",
       "      <td>0.0</td>\n",
       "      <td>19150.0</td>\n",
       "      <td>9972.0</td>\n",
       "      <td>0.0</td>\n",
       "      <td>23199.0</td>\n",
       "      <td>4294.0</td>\n",
       "      <td>13207.0</td>\n",
       "      <td>176487.0</td>\n",
       "      <td>...</td>\n",
       "      <td>58813.0</td>\n",
       "      <td>140162.0</td>\n",
       "      <td>27717.0</td>\n",
       "      <td>13.0</td>\n",
       "      <td>59847.0</td>\n",
       "      <td>13515.0</td>\n",
       "      <td>4454.0</td>\n",
       "      <td>117297.0</td>\n",
       "      <td>24404.0</td>\n",
       "      <td>131707.0</td>\n",
       "    </tr>\n",
       "    <tr>\n",
       "      <th>4</th>\n",
       "      <td>1994</td>\n",
       "      <td>24389.0</td>\n",
       "      <td>0.0</td>\n",
       "      <td>19537.0</td>\n",
       "      <td>10754.0</td>\n",
       "      <td>0.0</td>\n",
       "      <td>23628.0</td>\n",
       "      <td>3646.0</td>\n",
       "      <td>13711.0</td>\n",
       "      <td>173802.0</td>\n",
       "      <td>...</td>\n",
       "      <td>63656.0</td>\n",
       "      <td>124010.0</td>\n",
       "      <td>28202.0</td>\n",
       "      <td>9.0</td>\n",
       "      <td>62280.0</td>\n",
       "      <td>13147.0</td>\n",
       "      <td>4760.0</td>\n",
       "      <td>116546.0</td>\n",
       "      <td>24661.0</td>\n",
       "      <td>133588.0</td>\n",
       "    </tr>\n",
       "  </tbody>\n",
       "</table>\n",
       "<p>5 rows × 29 columns</p>\n",
       "</div>"
      ],
      "text/plain": [
       "Country  Year  Austria  Belgium  Bulgaria  Croatia  Czech Republic  Denmark  \\\n",
       "0        1990  24721.0      0.0   26073.0      0.0             0.0  23218.0   \n",
       "1        1991  24461.0      0.0   27231.0      0.0             0.0  23248.0   \n",
       "2        1992  24427.0      0.0   21809.0   9525.0             0.0  23610.0   \n",
       "3        1993  24317.0      0.0   19150.0   9972.0             0.0  23199.0   \n",
       "4        1994  24389.0      0.0   19537.0  10754.0             0.0  23628.0   \n",
       "\n",
       "Country  Estonia  Finland    France  ...  Netherlands    Poland  Portugal  \\\n",
       "0            0.0  14901.0  171107.0  ...      70331.0  149870.0   28181.0   \n",
       "1            0.0  13797.0  176966.0  ...      62610.0  141291.0   27411.0   \n",
       "2         4771.0  13703.0  170332.0  ...      66338.0  123873.0   26344.0   \n",
       "3         4294.0  13207.0  176487.0  ...      58813.0  140162.0   27717.0   \n",
       "4         3646.0  13711.0  173802.0  ...      63656.0  124010.0   28202.0   \n",
       "\n",
       "Country  Republic of Cyprus  Romania  Slovakia  Slovenia     Spain   Sweden  \\\n",
       "0                      13.0  62989.0       0.0       0.0  120074.0  24271.0   \n",
       "1                       9.0  60804.0       0.0       0.0  120149.0  23511.0   \n",
       "2                       8.0  61463.0       0.0    4087.0  117991.0  23707.0   \n",
       "3                      13.0  59847.0   13515.0    4454.0  117297.0  24404.0   \n",
       "4                       9.0  62280.0   13147.0    4760.0  116546.0  24661.0   \n",
       "\n",
       "Country  United Kingdom  \n",
       "0              133515.0  \n",
       "1              129751.0  \n",
       "2              132955.0  \n",
       "3              131707.0  \n",
       "4              133588.0  \n",
       "\n",
       "[5 rows x 29 columns]"
      ]
     },
     "execution_count": 6,
     "metadata": {},
     "output_type": "execute_result"
    }
   ],
   "source": [
    "dffood.head()"
   ]
  },
  {
   "cell_type": "code",
   "execution_count": 7,
   "metadata": {},
   "outputs": [],
   "source": [
    "def Scrapping(url):\n",
    "    step1=src.scrapping.GetSoup(url)\n",
    "    values=src.scrapping.InsertCols(step1)\n",
    "    df=src.scrapping.CreateDf(values,step1)\n",
    "    return df\n",
    "    "
   ]
  },
  {
   "cell_type": "code",
   "execution_count": 8,
   "metadata": {},
   "outputs": [],
   "source": [
    "prueba=Scrapping('https://stats.oecd.org/Index.aspx?DataSetCode=AIR_GHG')"
   ]
  },
  {
   "cell_type": "code",
   "execution_count": null,
   "metadata": {},
   "outputs": [],
   "source": []
  },
  {
   "cell_type": "code",
   "execution_count": 9,
   "metadata": {},
   "outputs": [],
   "source": [
    "def CleaningPollDf(df):\n",
    "    df=src.cleanning_pollutiondf.SelectCols(df)\n",
    "    df=src.cleanning_pollutiondf.CorrectNameCols(df)\n",
    "    df=src.cleanning_pollutiondf.SelectCols(df)\n",
    "    df=src.cleanning_pollutiondf.ReplaceUnknownVal(df)\n",
    "    df=src.cleanning_pollutiondf.ChangeColType(df)\n",
    "    df=src.cleanning_pollutiondf.TransformDf(df)\n",
    "    return src.cleanning_pollutiondf.ExportCleanDfEmissions(df)\n"
   ]
  },
  {
   "cell_type": "code",
   "execution_count": 10,
   "metadata": {},
   "outputs": [
    {
     "name": "stderr",
     "output_type": "stream",
     "text": [
      "/home/eduardo/.local/lib/python3.5/site-packages/ipykernel_launcher.py:3: SettingWithCopyWarning: \n",
      "A value is trying to be set on a copy of a slice from a DataFrame\n",
      "\n",
      "See the caveats in the documentation: http://pandas.pydata.org/pandas-docs/stable/indexing.html#indexing-view-versus-copy\n",
      "  This is separate from the ipykernel package so we can avoid doing imports until\n"
     ]
    }
   ],
   "source": [
    "dfpoll=CleaningPollDf(prueba)"
   ]
  },
  {
   "cell_type": "code",
   "execution_count": 11,
   "metadata": {},
   "outputs": [],
   "source": [
    "def Analysis(dffood,country):\n",
    "    \n",
    "    df_poll=src.analysis.OpenData(r'./output/Pollution-emissions.csv')\n",
    "    maximos=src.analysis.Maximum(dffood,country)\n",
    "    print(maximos)\n",
    "    grafica_1, grafica_2 = src.analysis.CompareEvolutionGraffics(dffood,df_poll,country)\n",
    "    src.analysis.SaveGraffics(grafica_1, grafica_2)\n",
    "    "
   ]
  },
  {
   "cell_type": "code",
   "execution_count": 12,
   "metadata": {},
   "outputs": [
    {
     "name": "stdout",
     "output_type": "stream",
     "text": [
      "('The year with more production was:', 2002)\n"
     ]
    },
    {
     "data": {
      "image/png": "[encoded data removed]",
      "text/plain": [
       "<Figure size 432x288 with 1 Axes>"
      ]
     },
     "metadata": {
      "needs_background": "light"
     },
     "output_type": "display_data"
    },
    {
     "data": {
      "image/png": "[encoded data removed]",
      "text/plain": [
       "<Figure size 432x288 with 1 Axes>"
      ]
     },
     "metadata": {
      "needs_background": "light"
     },
     "output_type": "display_data"
    }
   ],
   "source": [
    "Analysis(dffood,'France')"
   ]
  },
  {
   "cell_type": "code",
   "execution_count": null,
   "metadata": {},
   "outputs": [],
   "source": []
  }
 ],
 "metadata": {
  "kernelspec": {
   "display_name": "Python 3",
   "language": "python",
   "name": "python3"
  },
  "language_info": {
   "codemirror_mode": {
    "name": "ipython",
    "version": 3
   },
   "file_extension": ".py",
   "mimetype": "text/x-python",
   "name": "python",
   "nbconvert_exporter": "python",
   "pygments_lexer": "ipython3",
   "version": "3.5.2"
  }
 },
 "nbformat": 4,
 "nbformat_minor": 2
}
